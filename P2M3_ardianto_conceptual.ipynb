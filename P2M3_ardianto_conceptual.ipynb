{
 "cells": [
  {
   "cell_type": "markdown",
   "metadata": {},
   "source": [
    "### **Conceptual Problems**\n",
    "    Nama    : Ardianto\n",
    "    Batch   : RMT-024\n",
    "---"
   ]
  },
  {
   "cell_type": "markdown",
   "metadata": {},
   "source": [
    "##### 1. NoSQL\n",
    "NoSQL (Not Only SQL) adalah jenis sistem database yang tidak mengikuti model relasional seperti pada database SQL convensional. Sebagai contoh, pada sebuah aplikasi, data pengguna yang beragam seperti nama, umur, email, dan lain lain disimpan dalam bentuk non-tabular atau dalam bentuk semi-structured JSON, YAML, XML atau lainnya. Database dengan basis NoSQL ini biasanya memiliki tujuan untuk model data yang lebih specifik dan skema yang lebih fleksibel untuk mengembangkan aplikasi modern. Dikutip dari AWS, terdapat beberapa keunggulan NoSQL seperti:\n",
    "- **Flexibility**: Database NoSQL database pada umumnya lebih fleksibel yang membantu pengembangan menjadi lebih cepat. \n",
    "- **Scalability**: Mengacu pada kemampuan sistem database untuk menangani peningkatan beban atau volume data tanpa harus menambah server yang mahal. Sederhananya, suatu sistem NoSQL dikatakan \"scalable\" atau \"skalabel\" dimana sistem tersebut dapat dengan efektif menangani pertumbuhan angka jumlah pengguna, data, atau permintaan/request tanpa mengalami penurunan kinerja atau bahkan error/kegagalan/down.\n",
    "- **High-performance**: Database NoSQL memiliki kinerja yang lebih baik dibanding relational-database ketika melakukan task dengan output yang sama.\n",
    "- **Highly functional**: Database NoSQL bisa lebih fungsional dengan adanya API yang bisa dibuat sesuai dengan model data. \n"
   ]
  },
  {
   "cell_type": "markdown",
   "metadata": {},
   "source": [
    "\n",
    "##### 2. Kapan Menggunakan NoSQL dan RDBMS\n",
    "NoSQL dapat digunakan ketika:\n",
    "\n",
    "- Data bersifat semi-struktural atau tidak terstruktur dengan volume yang besar. \n",
    "- Ketika membutuhkan fleksibilitas atau skema yang dinamis.\n",
    "- Diperlukan skalabilitas untuk jumlah data yang besar tapi.\n",
    "- Ketika aplikasi yang dibuat tidak membutuhkan relationship/hubungan antar table/file.\n",
    "\n",
    "Relational Database Management System (RDBMS) dapat digunakan ketika:\n",
    "\n",
    "- Struktur data static/tetap atau tidak berubah-ubah secara intens, dan terdefinisi dengan baik.\n",
    "- Adanya keperluan yang intens terkait querying seperti aggregating atau perhitungan yang bersifat transaksional.\n",
    "- Terdapat hubungan antar table atau integritas data. \n",
    "\n"
   ]
  },
  {
   "cell_type": "markdown",
   "metadata": {},
   "source": [
    "##### 3. Contoh NoSQL Tools/Platform selain elasticsearch\n",
    "\n",
    "**MongoDB**\n",
    "\n",
    "Keunggulan: \n",
    "- Mendukung skema fleksibel, cocok untuk data semi-struktural, dan memiliki kemampuan skalabilitas yang baik.\n",
    "- Menyediakan firewall sequrity, SSL, dan enskripsi.\n",
    "- Gratis\n",
    "\n",
    "**Apache Cassandra**\n",
    "\n",
    "Keunggulan: \n",
    "- Kemampuan dalam write/menulis data atau penyimpanan data yang besar dengan kecepatan dan skalabilitas yang baik.\n",
    "- Telah diuji pada 1000 node clusters dan 100 real-world use case untuk menunjukan realibilitas dan skalabilitas yang baik. \n",
    "- Bisa mereplikasi data pada nodes yang beragam."
   ]
  },
  {
   "cell_type": "markdown",
   "metadata": {},
   "source": [
    "##### 4. Apache Airflow\n",
    "Apache Airflow adalah platform open-source untuk mengelola alur pengolahan data (data workflow) secara terjadwal dan terawasi. Dengan Airflow, beberapa proses dalam pengolahan data bisa dibuat secara berurutan. Ketika salah satu proses mengalami error atau kegagalan, maka proses selanjutnya tidak akan berjalan. Hal tersebut memudahkan user untuk memperbaiki proses terlebih dahulu agar tidak dilanjutkan ke tahap selanjutnya sehingga bisa menyebabkan hasil yang tidak tepat."
   ]
  },
  {
   "cell_type": "markdown",
   "metadata": {},
   "source": [
    "##### 5. Great Expectations\n",
    "\n",
    "Great Expectations adalah framework open-source untuk menguji atau memvalidasi kualitas data. Proses dengan great expectation bisa dilakukan untuk beberapa data asset dalam satu data source sekaligus atau bisa juga dilakukan terhadap satu data asset saja. Dengan great expectation, kita bisa memastikan apakah data yang kita pakai sudah memenuhi kriteria, aturan/rules, atau standard yang kita inginkan sesui dengan kebutuhan. "
   ]
  },
  {
   "cell_type": "markdown",
   "metadata": {},
   "source": [
    "##### 6. Batch Processing\n",
    "Batch Processing adalah pemrosesan data di mana data diambil, diproses, dan dihasilkan dalam kelompok atau batch tertentu. Batch processing biasanya dilakukan dalam periode atau kurun waktu tertentu seperti satu minggu sekali, sebulan sekali dan sebagainya.\n",
    "\n",
    "Contoh Kasus Penggunaan: \n",
    "- Pengolahan data gaji karyawan bulanan.\n",
    "- Pengolahan data retention atau churn customer bulanan.\n",
    "- Pengolahan data hasil belajar siswa per semester. \n",
    "\n",
    "Tools:\n",
    "- Apache Hadoop\n",
    "- Apache Spark\n",
    "- Apache Flink"
   ]
  }
 ],
 "metadata": {
  "language_info": {
   "name": "python"
  }
 },
 "nbformat": 4,
 "nbformat_minor": 2
}
